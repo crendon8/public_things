{
 "cells": [
  {
   "cell_type": "code",
   "execution_count": 11,
   "metadata": {},
   "outputs": [],
   "source": [
    "# Re-import necessary libraries since execution state was reset\n",
    "import pandas as pd\n",
    "import numpy as np\n",
    "import plotly.graph_objects as go\n",
    "\n",
    "# Simulate a 30-day time series with a separate timestamp column\n",
    "date_rng = pd.date_range(start=\"2025-01-01\", periods=30*24*60*60, freq=\"S\")\n",
    "df = pd.DataFrame({\"timestamp\": date_rng, \"value\": np.cumsum(np.random.randn(len(date_rng)))})\n",
    "\n",
    "# Add additional irrelevant columns to mimic the real dataset\n",
    "df[\"other_metric1\"] = np.random.randn(len(df))\n",
    "df[\"other_metric2\"] = np.random.randn(len(df))\n",
    "\n",
    "# Define rolling windows in seconds\n",
    "rolling_windows = {\n",
    "    \"30min\": 30 * 60,\n",
    "    \"1hr\": 60 * 60,\n",
    "    \"4hr\": 4 * 60 * 60,\n",
    "    \"1day\": 24 * 60 * 60\n",
    "}\n",
    "\n",
    "# Compute rolling statistics\n",
    "for name, window in rolling_windows.items():\n",
    "    df[f\"mean_{name}\"] = df[\"value\"].rolling(window=window, min_periods=1).mean()\n",
    "    df[f\"std_{name}\"] = df[\"value\"].rolling(window=window, min_periods=1).std()\n",
    "    df[f\"zscore_{name}\"] = (df[\"value\"] - df[f\"mean_{name}\"]) / df[f\"std_{name}\"]\n",
    "\n",
    "# Convert timestamp column to datetime for filtering\n",
    "df[\"timestamp\"] = pd.to_datetime(df[\"timestamp\"])\n",
    "\n",
    "# Select a recent 3-day moving window for visualization with relevant columns only\n",
    "columns_to_keep = [\"timestamp\", \"value\", \"mean_1hr\", \"mean_4hr\", \"mean_1day\", \"zscore_1hr\"]\n",
    "df_subset = df[(df[\"timestamp\"] >= \"2025-01-28\") & (df[\"timestamp\"] <= \"2025-01-30\")][columns_to_keep]\n"
   ]
  },
  {
   "cell_type": "code",
   "execution_count": null,
   "metadata": {},
   "outputs": [],
   "source": [
    "fig1 = go.Figure()\n",
    "\n",
    "# Add traces for value and rolling means\n",
    "fig1.add_trace(go.Scatter(x=df_subset[\"timestamp\"], y=df_subset[\"value\"], mode=\"lines\", name=\"Value\", opacity=0.6))\n",
    "fig1.add_trace(go.Scatter(x=df_subset[\"timestamp\"], y=df_subset[\"mean_1hr\"], mode=\"lines\", name=\"Rolling Mean (1hr)\", line=dict(dash=\"dash\")))\n",
    "fig1.add_trace(go.Scatter(x=df_subset[\"timestamp\"], y=df_subset[\"mean_4hr\"], mode=\"lines\", name=\"Rolling Mean (4hr)\", line=dict(dash=\"dash\")))\n",
    "fig1.add_trace(go.Scatter(x=df_subset[\"timestamp\"], y=df_subset[\"mean_1day\"], mode=\"lines\", name=\"Rolling Mean (1 day)\", line=dict(dash=\"dot\")))\n",
    "\n",
    "# Update layout for rolling mean plot\n",
    "fig1.update_layout(\n",
    "    title=\"Rolling Mean Analysis (Last 3 Days)\",\n",
    "    xaxis_title=\"Timestamp\",\n",
    "    yaxis_title=\"Value\",\n",
    "    xaxis=dict(tickangle=45),\n",
    "    legend=dict(x=1.05, y=1, bordercolor=\"Black\", borderwidth=1, traceorder=\"normal\"),\n",
    "    margin=dict(r=200)  # Add right margin to avoid overlap\n",
    ")\n",
    "\n",
    "# Show fig1ure\n",
    "fig1.show()"
   ]
  },
  {
   "cell_type": "code",
   "execution_count": null,
   "metadata": {},
   "outputs": [],
   "source": [
    "# Create Plotly figure for Z-score analysis\n",
    "fig2 = go.Figure()\n",
    "\n",
    "# Add Z-score trace\n",
    "fig2.add_trace(go.Scatter(x=df_subset[\"timestamp\"], y=df_subset[\"zscore_1hr\"], mode=\"lines\", name=\"Z-score (1hr)\"))\n",
    "\n",
    "# Add threshold lines for Z-score\n",
    "fig2.add_trace(go.Scatter(x=df_subset[\"timestamp\"], y=[2]*len(df_subset), mode=\"lines\", name=\"Z=2 Threshold\", line=dict(color='red', dash=\"dash\")))\n",
    "fig2.add_trace(go.Scatter(x=df_subset[\"timestamp\"], y=[-2]*len(df_subset), mode=\"lines\", name=\"Z=-2 Threshold\", line=dict(color='red', dash=\"dash\")))\n",
    "\n",
    "# Update layout for Z-score plot\n",
    "fig2.update_layout(\n",
    "    title=\"Z-score Analysis (Last 3 Days)\",\n",
    "    xaxis_title=\"Timestamp\",\n",
    "    yaxis_title=\"Z-score\",\n",
    "    xaxis=dict(tickangle=45),\n",
    "    legend=dict(x=1.05, y=1, bordercolor=\"Black\", borderwidth=1, traceorder=\"normal\"),\n",
    "    margin=dict(r=200)  # Add right margin to avoid overlap\n",
    ")\n",
    "\n",
    "fig2.show()"
   ]
  }
 ],
 "metadata": {
  "kernelspec": {
   "display_name": "market-analysis",
   "language": "python",
   "name": "python3"
  },
  "language_info": {
   "codemirror_mode": {
    "name": "ipython",
    "version": 3
   },
   "file_extension": ".py",
   "mimetype": "text/x-python",
   "name": "python",
   "nbconvert_exporter": "python",
   "pygments_lexer": "ipython3",
   "version": "3.9.16"
  }
 },
 "nbformat": 4,
 "nbformat_minor": 2
}
